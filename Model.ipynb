{
  "cells": [
    {
      "cell_type": "code",
      "execution_count": 62,
      "metadata": {
        "id": "K6Ysf8rXY3v1"
      },
      "outputs": [],
      "source": [
        "# Step 1 import libraries\n",
        "import pandas as pd\n",
        "import numpy as np\n",
        "\n",
        "from sklearn.model_selection import train_test_split\n",
        "from sklearn import svm\n",
        "from sklearn import tree\n",
        "from sklearn.naive_bayes import GaussianNB\n",
        "from sklearn.ensemble import RandomForestClassifier\n",
        "from sklearn.ensemble import AdaBoostClassifier\n",
        "from sklearn.neural_network import MLPClassifier\n",
        "from sklearn.neighbors import KNeighborsClassifier\n",
        "from sklearn.gaussian_process import GaussianProcessClassifier\n",
        "from sklearn.gaussian_process.kernels import RBF\n",
        "\n",
        "from sklearn.metrics import confusion_matrix\n",
        "\n",
        "import matplotlib.pyplot as plt"
      ]
    },
    {
      "cell_type": "code",
      "execution_count": 63,
      "metadata": {
        "id": "w65FaHRkZ-rc"
      },
      "outputs": [],
      "source": [
        "# Step 2 read the csv files and create pandas dataframes\n",
        "legitimate_df = pd.read_csv(\"structured_data_legitimate.csv\")\n",
        "phishing_df = pd.read_csv(\"structured_data_phishing.csv\")"
      ]
    },
    {
      "cell_type": "code",
      "execution_count": 64,
      "metadata": {
        "id": "_FznrraMaCF4"
      },
      "outputs": [],
      "source": [
        "# Step 3 combine legitimate and phishing dataframes, and shuffle\n",
        "df = pd.concat([legitimate_df, phishing_df], axis=0)\n",
        "\n",
        "df = df.sample(frac=1)"
      ]
    },
    {
      "cell_type": "code",
      "execution_count": 65,
      "metadata": {
        "id": "X8xNV5EuaFY8"
      },
      "outputs": [],
      "source": [
        "# Step 4 remove'url' and remove duplicates, then we can create X and Y for the models, Supervised Learning\n",
        "df = df.drop('URL', axis=1)\n",
        "\n",
        "df = df.drop_duplicates()\n",
        "\n",
        "X = df.drop('label', axis=1)\n",
        "Y = df['label']"
      ]
    },
    {
      "cell_type": "code",
      "execution_count": 66,
      "metadata": {
        "id": "oFRYm2BkaI9K"
      },
      "outputs": [],
      "source": [
        "# Step 5 split data to train and test\n",
        "x_train, x_test, y_train, y_test = train_test_split(X, Y, test_size=0.2, random_state=10)"
      ]
    },
    {
      "cell_type": "code",
      "execution_count": 67,
      "metadata": {
        "id": "jy0Rx1jgaN7l"
      },
      "outputs": [],
      "source": [
        "# Step 6 create a ML model using sklearn\n",
        "svm_model = svm.LinearSVC()\n",
        "\n",
        "# Random Forest\n",
        "rf_model = RandomForestClassifier(n_estimators=60)\n",
        "\n",
        "# Decision Tree\n",
        "dt_model = tree.DecisionTreeClassifier()\n",
        "\n",
        "# AdaBoost\n",
        "ab_model = AdaBoostClassifier()\n",
        "\n",
        "\n",
        "\n",
        "# Neural Network\n",
        "nn_model = MLPClassifier(alpha=1)\n",
        "\n",
        "# KNeighborsClassifier\n",
        "kn_model = KNeighborsClassifier()"
      ]
    },
    {
      "cell_type": "code",
      "execution_count": 68,
      "metadata": {
        "colab": {
          "base_uri": "https://localhost:8080/",
          "height": 109
        },
        "id": "MDjYzEWPaVKW",
        "outputId": "b113cfd2-45e4-492d-c2ba-9e82d0786759"
      },
      "outputs": [
        {
          "data": {
            "text/html": [
              "<style>#sk-container-id-5 {color: black;background-color: white;}#sk-container-id-5 pre{padding: 0;}#sk-container-id-5 div.sk-toggleable {background-color: white;}#sk-container-id-5 label.sk-toggleable__label {cursor: pointer;display: block;width: 100%;margin-bottom: 0;padding: 0.3em;box-sizing: border-box;text-align: center;}#sk-container-id-5 label.sk-toggleable__label-arrow:before {content: \"▸\";float: left;margin-right: 0.25em;color: #696969;}#sk-container-id-5 label.sk-toggleable__label-arrow:hover:before {color: black;}#sk-container-id-5 div.sk-estimator:hover label.sk-toggleable__label-arrow:before {color: black;}#sk-container-id-5 div.sk-toggleable__content {max-height: 0;max-width: 0;overflow: hidden;text-align: left;background-color: #f0f8ff;}#sk-container-id-5 div.sk-toggleable__content pre {margin: 0.2em;color: black;border-radius: 0.25em;background-color: #f0f8ff;}#sk-container-id-5 input.sk-toggleable__control:checked~div.sk-toggleable__content {max-height: 200px;max-width: 100%;overflow: auto;}#sk-container-id-5 input.sk-toggleable__control:checked~label.sk-toggleable__label-arrow:before {content: \"▾\";}#sk-container-id-5 div.sk-estimator input.sk-toggleable__control:checked~label.sk-toggleable__label {background-color: #d4ebff;}#sk-container-id-5 div.sk-label input.sk-toggleable__control:checked~label.sk-toggleable__label {background-color: #d4ebff;}#sk-container-id-5 input.sk-hidden--visually {border: 0;clip: rect(1px 1px 1px 1px);clip: rect(1px, 1px, 1px, 1px);height: 1px;margin: -1px;overflow: hidden;padding: 0;position: absolute;width: 1px;}#sk-container-id-5 div.sk-estimator {font-family: monospace;background-color: #f0f8ff;border: 1px dotted black;border-radius: 0.25em;box-sizing: border-box;margin-bottom: 0.5em;}#sk-container-id-5 div.sk-estimator:hover {background-color: #d4ebff;}#sk-container-id-5 div.sk-parallel-item::after {content: \"\";width: 100%;border-bottom: 1px solid gray;flex-grow: 1;}#sk-container-id-5 div.sk-label:hover label.sk-toggleable__label {background-color: #d4ebff;}#sk-container-id-5 div.sk-serial::before {content: \"\";position: absolute;border-left: 1px solid gray;box-sizing: border-box;top: 0;bottom: 0;left: 50%;z-index: 0;}#sk-container-id-5 div.sk-serial {display: flex;flex-direction: column;align-items: center;background-color: white;padding-right: 0.2em;padding-left: 0.2em;position: relative;}#sk-container-id-5 div.sk-item {position: relative;z-index: 1;}#sk-container-id-5 div.sk-parallel {display: flex;align-items: stretch;justify-content: center;background-color: white;position: relative;}#sk-container-id-5 div.sk-item::before, #sk-container-id-5 div.sk-parallel-item::before {content: \"\";position: absolute;border-left: 1px solid gray;box-sizing: border-box;top: 0;bottom: 0;left: 50%;z-index: -1;}#sk-container-id-5 div.sk-parallel-item {display: flex;flex-direction: column;z-index: 1;position: relative;background-color: white;}#sk-container-id-5 div.sk-parallel-item:first-child::after {align-self: flex-end;width: 50%;}#sk-container-id-5 div.sk-parallel-item:last-child::after {align-self: flex-start;width: 50%;}#sk-container-id-5 div.sk-parallel-item:only-child::after {width: 0;}#sk-container-id-5 div.sk-dashed-wrapped {border: 1px dashed gray;margin: 0 0.4em 0.5em 0.4em;box-sizing: border-box;padding-bottom: 0.4em;background-color: white;}#sk-container-id-5 div.sk-label label {font-family: monospace;font-weight: bold;display: inline-block;line-height: 1.2em;}#sk-container-id-5 div.sk-label-container {text-align: center;}#sk-container-id-5 div.sk-container {/* jupyter's `normalize.less` sets `[hidden] { display: none; }` but bootstrap.min.css set `[hidden] { display: none !important; }` so we also need the `!important` here to be able to override the default hidden behavior on the sphinx rendered scikit-learn.org. See: https://github.com/scikit-learn/scikit-learn/issues/21755 */display: inline-block !important;position: relative;}#sk-container-id-5 div.sk-text-repr-fallback {display: none;}</style><div id=\"sk-container-id-5\" class=\"sk-top-container\"><div class=\"sk-text-repr-fallback\"><pre>RandomForestClassifier(n_estimators=60)</pre><b>In a Jupyter environment, please rerun this cell to show the HTML representation or trust the notebook. <br />On GitHub, the HTML representation is unable to render, please try loading this page with nbviewer.org.</b></div><div class=\"sk-container\" hidden><div class=\"sk-item\"><div class=\"sk-estimator sk-toggleable\"><input class=\"sk-toggleable__control sk-hidden--visually\" id=\"sk-estimator-id-5\" type=\"checkbox\" checked><label for=\"sk-estimator-id-5\" class=\"sk-toggleable__label sk-toggleable__label-arrow\">RandomForestClassifier</label><div class=\"sk-toggleable__content\"><pre>RandomForestClassifier(n_estimators=60)</pre></div></div></div></div></div>"
            ],
            "text/plain": [
              "RandomForestClassifier(n_estimators=60)"
            ]
          },
          "execution_count": 68,
          "metadata": {},
          "output_type": "execute_result"
        }
      ],
      "source": [
        "# Step 7 train the model\n",
        "rf_model.fit(x_train, y_train)"
      ]
    },
    {
      "cell_type": "code",
      "execution_count": 69,
      "metadata": {
        "id": "J1KZPuI3aYkc"
      },
      "outputs": [],
      "source": [
        "# Step 8 make some predictions using test data\n",
        "predictions = rf_model.predict(x_test)"
      ]
    },
    {
      "cell_type": "code",
      "execution_count": 70,
      "metadata": {
        "id": "6kywMbjMajYE"
      },
      "outputs": [],
      "source": [
        "# Step 9 create a confusion matrix and tn, tp, fn , fp\n",
        "tn, fp, fn, tp = confusion_matrix(y_true=y_test, y_pred=predictions).ravel()"
      ]
    },
    {
      "cell_type": "code",
      "execution_count": 71,
      "metadata": {
        "colab": {
          "base_uri": "https://localhost:8080/"
        },
        "id": "3BLUXiLyamKI",
        "outputId": "ba2556fb-0162-4f66-b934-5e04c2909ab6"
      },
      "outputs": [
        {
          "name": "stdout",
          "output_type": "stream",
          "text": [
            "accuracy -->  0.9830621056127532\n",
            "precision -->  0.68\n",
            "recall -->  0.2833333333333333\n"
          ]
        }
      ],
      "source": [
        "# Step 10 calculate accuracy, precision and recall scores\n",
        "accuracy = (tp + tn) / (tp + tn + fp + fn)\n",
        "precision = tp / (tp + fp)\n",
        "recall = tp / (tp + fn)\n",
        "\n",
        "print(\"accuracy --> \", accuracy)\n",
        "print(\"precision --> \", precision)\n",
        "print(\"recall --> \", recall)"
      ]
    },
    {
      "cell_type": "code",
      "execution_count": 72,
      "metadata": {
        "id": "D07-D90uapL3"
      },
      "outputs": [],
      "source": [
        "# K-fold cross validation, and K = 5\n",
        "K = 5\n",
        "total = X.shape[0]\n",
        "index = int(total / K)\n",
        "\n",
        "# 1\n",
        "X_1_test = X.iloc[:index]\n",
        "X_1_train = X.iloc[index:]\n",
        "Y_1_test = Y.iloc[:index]\n",
        "Y_1_train = Y.iloc[index:]\n",
        "\n",
        "# 2\n",
        "X_2_test = X.iloc[index:index*2]\n",
        "X_2_train = X.iloc[np.r_[:index, index*2:]]\n",
        "Y_2_test = Y.iloc[index:index*2]\n",
        "Y_2_train = Y.iloc[np.r_[:index, index*2:]]\n",
        "\n",
        "# 3\n",
        "X_3_test = X.iloc[index*2:index*3]\n",
        "X_3_train = X.iloc[np.r_[:index*2, index*3:]]\n",
        "Y_3_test = Y.iloc[index*2:index*3]\n",
        "Y_3_train = Y.iloc[np.r_[:index*2, index*3:]]\n",
        "\n",
        "# 4\n",
        "X_4_test = X.iloc[index*3:index*4]\n",
        "X_4_train = X.iloc[np.r_[:index*3, index*4:]]\n",
        "Y_4_test = Y.iloc[index*3:index*4]\n",
        "Y_4_train = Y.iloc[np.r_[:index*3, index*4:]]\n",
        "\n",
        "# 5\n",
        "X_5_test = X.iloc[index*4:]\n",
        "X_5_train = X.iloc[:index*4]\n",
        "Y_5_test = Y.iloc[index*4:]\n",
        "Y_5_train = Y.iloc[:index*4]"
      ]
    },
    {
      "cell_type": "code",
      "execution_count": 73,
      "metadata": {
        "id": "g-da3ixya3Wl"
      },
      "outputs": [],
      "source": [
        "# X and Y train and test lists\n",
        "X_train_list = [X_1_train, X_2_train, X_3_train, X_4_train, X_5_train]\n",
        "X_test_list = [X_1_test, X_2_test, X_3_test, X_4_test, X_5_test]\n",
        "\n",
        "Y_train_list = [Y_1_train, Y_2_train, Y_3_train, Y_4_train, Y_5_train]\n",
        "Y_test_list = [Y_1_test, Y_2_test, Y_3_test, Y_4_test, Y_5_test]"
      ]
    },
    {
      "cell_type": "code",
      "execution_count": 74,
      "metadata": {
        "colab": {
          "base_uri": "https://localhost:8080/"
        },
        "id": "p91yio56a634",
        "outputId": "bda4f1ce-ecfb-4cf0-ed3e-c4459895150c"
      },
      "outputs": [
        {
          "name": "stderr",
          "output_type": "stream",
          "text": [
            "C:\\Users\\ajubh\\AppData\\Roaming\\Python\\Python310\\site-packages\\sklearn\\svm\\_base.py:1225: ConvergenceWarning: Liblinear failed to converge, increase the number of iterations.\n",
            "  warnings.warn(\n",
            "C:\\Users\\ajubh\\AppData\\Local\\Temp\\ipykernel_15984\\4009843720.py:3: RuntimeWarning: invalid value encountered in longlong_scalars\n",
            "  model_precision = TP / (TP + FP)\n",
            "C:\\Users\\ajubh\\AppData\\Roaming\\Python\\Python310\\site-packages\\sklearn\\svm\\_base.py:1225: ConvergenceWarning: Liblinear failed to converge, increase the number of iterations.\n",
            "  warnings.warn(\n",
            "C:\\Users\\ajubh\\AppData\\Roaming\\Python\\Python310\\site-packages\\sklearn\\svm\\_base.py:1225: ConvergenceWarning: Liblinear failed to converge, increase the number of iterations.\n",
            "  warnings.warn(\n",
            "C:\\Users\\ajubh\\AppData\\Roaming\\Python\\Python310\\site-packages\\sklearn\\svm\\_base.py:1225: ConvergenceWarning: Liblinear failed to converge, increase the number of iterations.\n",
            "  warnings.warn(\n",
            "C:\\Users\\ajubh\\AppData\\Roaming\\Python\\Python310\\site-packages\\sklearn\\svm\\_base.py:1225: ConvergenceWarning: Liblinear failed to converge, increase the number of iterations.\n",
            "  warnings.warn(\n"
          ]
        }
      ],
      "source": [
        "def calculate_measures(TN, TP, FN, FP):\n",
        "    model_accuracy = (TP + TN) / (TP + TN + FN + FP)\n",
        "    model_precision = TP / (TP + FP)\n",
        "    model_recall = TP / (TP + FN)\n",
        "    return model_accuracy, model_precision, model_recall\n",
        "\n",
        "\n",
        "rf_accuracy_list, rf_precision_list, rf_recall_list = [], [], []\n",
        "dt_accuracy_list, dt_precision_list, dt_recall_list = [], [], []\n",
        "ab_accuracy_list, ab_precision_list, ab_recall_list = [], [], []\n",
        "svm_accuracy_list, svm_precision_list, svm_recall_list = [], [], []\n",
        "nn_accuracy_list, nn_precision_list, nn_recall_list = [], [], []\n",
        "kn_accuracy_list, kn_precision_list, kn_recall_list = [], [], []\n",
        "\n",
        "\n",
        "\n",
        "for i in range(0, K):\n",
        "    # ----- RANDOM FOREST ----- #\n",
        "    rf_model.fit(X_train_list[i], Y_train_list[i])\n",
        "    rf_predictions = rf_model.predict(X_test_list[i])\n",
        "    tn, fp, fn, tp = confusion_matrix(y_true=Y_test_list[i], y_pred=rf_predictions).ravel()\n",
        "    rf_accuracy, rf_precision, rf_recall = calculate_measures(tn, tp, fn, fp)\n",
        "    rf_accuracy_list.append(rf_accuracy)\n",
        "    rf_precision_list.append(rf_precision)\n",
        "    rf_recall_list.append(rf_recall)\n",
        "\n",
        "    # ----- DECISION TREE ----- #\n",
        "    dt_model.fit(X_train_list[i], Y_train_list[i])\n",
        "    dt_predictions = dt_model.predict(X_test_list[i])\n",
        "    tn, fp, fn, tp = confusion_matrix(y_true=Y_test_list[i], y_pred=dt_predictions).ravel()\n",
        "    dt_accuracy, dt_precision, dt_recall = calculate_measures(tn, tp, fn, fp)\n",
        "    dt_accuracy_list.append(dt_accuracy)\n",
        "    dt_precision_list.append(dt_precision)\n",
        "    dt_recall_list.append(dt_recall)\n",
        "\n",
        "    # ----- SUPPORT VECTOR MACHINE ----- #\n",
        "    svm_model.fit(X_train_list[i], Y_train_list[i])\n",
        "    svm_predictions = svm_model.predict(X_test_list[i])\n",
        "    tn, fp, fn, tp = confusion_matrix(y_true=Y_test_list[i], y_pred=svm_predictions).ravel()\n",
        "    svm_accuracy, svm_precision, svm_recall = calculate_measures(tn, tp, fn, fp)\n",
        "    svm_accuracy_list.append(svm_accuracy)\n",
        "    svm_precision_list.append(svm_precision)\n",
        "    svm_recall_list.append(svm_recall)\n",
        "\n",
        "    # ----- ADABOOST ----- #\n",
        "    ab_model.fit(X_train_list[i], Y_train_list[i])\n",
        "    ab_predictions = ab_model.predict(X_test_list[i])\n",
        "    tn, fp, fn, tp = confusion_matrix(y_true=Y_test_list[i], y_pred=ab_predictions).ravel()\n",
        "    ab_accuracy, ab_precision, ab_recall = calculate_measures(tn, tp, fn, fp)\n",
        "    ab_accuracy_list.append(ab_accuracy)\n",
        "    ab_precision_list.append(ab_precision)\n",
        "    ab_recall_list.append(ab_recall)\n",
        "\n",
        "\n",
        "    # ----- NEURAL NETWORK ----- #\n",
        "    nn_model.fit(X_train_list[i], Y_train_list[i])\n",
        "    nn_predictions = nn_model.predict(X_test_list[i])\n",
        "    tn, fp, fn, tp = confusion_matrix(y_true=Y_test_list[i], y_pred=nn_predictions).ravel()\n",
        "    nn_accuracy, nn_precision, nn_recall = calculate_measures(tn, tp, fn, fp)\n",
        "    nn_accuracy_list.append(nn_accuracy)\n",
        "    nn_precision_list.append(nn_precision)\n",
        "    nn_recall_list.append(nn_recall)\n",
        "\n",
        "    # ----- K-NEIGHBOURS CLASSIFIER ----- #\n",
        "    kn_model.fit(X_train_list[i], Y_train_list[i])\n",
        "    kn_predictions = kn_model.predict(X_test_list[i])\n",
        "    tn, fp, fn, tp = confusion_matrix(y_true=Y_test_list[i], y_pred=kn_predictions).ravel()\n",
        "    kn_accuracy, kn_precision, kn_recall = calculate_measures(tn, tp, fn, fp)\n",
        "    kn_accuracy_list.append(kn_accuracy)\n",
        "    kn_precision_list.append(kn_precision)\n",
        "    kn_recall_list.append(kn_recall)"
      ]
    },
    {
      "cell_type": "code",
      "execution_count": 75,
      "metadata": {
        "colab": {
          "base_uri": "https://localhost:8080/"
        },
        "id": "9CkHl-vGbDIV",
        "outputId": "6712a03b-7d31-410b-e892-b08e6570b2ef"
      },
      "outputs": [
        {
          "name": "stdout",
          "output_type": "stream",
          "text": [
            "Random Forest accuracy ==>  0.9907000561244574\n",
            "Random Forest precision ==>  0.8803646212304956\n",
            "Random Forest recall ==>  0.6875341156505401\n"
          ]
        }
      ],
      "source": [
        "RF_accuracy = sum(rf_accuracy_list) / len(rf_accuracy_list)\n",
        "RF_precision = sum(rf_precision_list) / len(rf_precision_list)\n",
        "RF_recall = sum(rf_recall_list) / len(rf_recall_list)\n",
        "\n",
        "print(\"Random Forest accuracy ==> \", RF_accuracy)\n",
        "print(\"Random Forest precision ==> \", RF_precision)\n",
        "print(\"Random Forest recall ==> \", RF_recall)"
      ]
    },
    {
      "cell_type": "code",
      "execution_count": 76,
      "metadata": {
        "colab": {
          "base_uri": "https://localhost:8080/"
        },
        "id": "eecCrbMXbUja",
        "outputId": "ced62442-eef6-4ead-873c-27e580c0983f"
      },
      "outputs": [
        {
          "name": "stdout",
          "output_type": "stream",
          "text": [
            "Decision Tree accuracy ==>  0.9847893458358188\n",
            "Decision Tree precision ==>  0.6967337357478203\n",
            "Decision Tree recall ==>  0.7278916131679185\n"
          ]
        }
      ],
      "source": [
        "DT_accuracy = sum(dt_accuracy_list) / len(dt_accuracy_list)\n",
        "DT_precision = sum(dt_precision_list) / len(dt_precision_list)\n",
        "DT_recall = sum(dt_recall_list) / len(dt_recall_list)\n",
        "\n",
        "print(\"Decision Tree accuracy ==> \", DT_accuracy)\n",
        "print(\"Decision Tree precision ==> \", DT_precision)\n",
        "print(\"Decision Tree recall ==> \", DT_recall)"
      ]
    },
    {
      "cell_type": "code",
      "execution_count": 77,
      "metadata": {
        "colab": {
          "base_uri": "https://localhost:8080/"
        },
        "id": "VHNASGAqbXy0",
        "outputId": "1b1c1d88-8595-4fe2-8640-2eb9600cc58d"
      },
      "outputs": [
        {
          "name": "stdout",
          "output_type": "stream",
          "text": [
            "AdaBoost accuracy ==>  0.9783427076246565\n",
            "AdaBoost precision ==>  0.523738437001595\n",
            "AdaBoost recall ==>  0.192220652614795\n"
          ]
        }
      ],
      "source": [
        "AB_accuracy = sum(ab_accuracy_list) / len(ab_accuracy_list)\n",
        "AB_precision = sum(ab_precision_list) / len(ab_precision_list)\n",
        "AB_recall = sum(ab_recall_list) / len(ab_recall_list)\n",
        "\n",
        "print(\"AdaBoost accuracy ==> \", AB_accuracy)\n",
        "print(\"AdaBoost precision ==> \", AB_precision)\n",
        "print(\"AdaBoost recall ==> \", AB_recall)"
      ]
    },
    {
      "cell_type": "code",
      "execution_count": 78,
      "metadata": {
        "colab": {
          "base_uri": "https://localhost:8080/"
        },
        "id": "x1CxDgxSbaSz",
        "outputId": "580be6db-fa92-48aa-a59d-d6786a40a938"
      },
      "outputs": [
        {
          "name": "stdout",
          "output_type": "stream",
          "text": [
            "Support Vector Machine accuracy ==>  0.9146545258475731\n",
            "Support Vector Machine precision ==>  0.07811275406265314\n",
            "Support Vector Machine recall ==>  0.1663678196287956\n"
          ]
        }
      ],
      "source": [
        "SVM_accuracy = sum(svm_accuracy_list) / len(svm_accuracy_list)\n",
        "SVM_precision = sum(svm_precision_list) / len(svm_precision_list)\n",
        "SVM_recall = sum(svm_recall_list) / len(svm_recall_list)\n",
        "\n",
        "print(\"Support Vector Machine accuracy ==> \", SVM_accuracy)\n",
        "print(\"Support Vector Machine precision ==> \", SVM_precision)\n",
        "print(\"Support Vector Machine recall ==> \", SVM_recall)"
      ]
    },
    {
      "cell_type": "code",
      "execution_count": null,
      "metadata": {
        "colab": {
          "base_uri": "https://localhost:8080/"
        },
        "id": "xvr1kFrMbdOn",
        "outputId": "e9a1af44-b9cb-4731-a950-b3cfc137ffac"
      },
      "outputs": [],
      "source": []
    },
    {
      "cell_type": "code",
      "execution_count": 79,
      "metadata": {
        "colab": {
          "base_uri": "https://localhost:8080/"
        },
        "id": "GpTkn7prcWHI",
        "outputId": "84a9cddd-335b-45a8-a06d-dda6abb107e8"
      },
      "outputs": [
        {
          "name": "stdout",
          "output_type": "stream",
          "text": [
            "Neural Network accuracy ==>  0.9770799845189119\n",
            "Neural Network precision ==>  nan\n",
            "Neural Network recall ==>  0.07511737089201878\n"
          ]
        }
      ],
      "source": [
        "NN_accuracy = sum(nn_accuracy_list) / len(nn_accuracy_list)\n",
        "NN_precision = sum(nn_precision_list) / len(nn_precision_list)\n",
        "NN_recall = sum(nn_recall_list) / len(nn_recall_list)\n",
        "\n",
        "print(\"Neural Network accuracy ==> \", NN_accuracy)\n",
        "print(\"Neural Network precision ==> \", NN_precision)\n",
        "print(\"Neural Network recall ==> \", NN_recall)"
      ]
    },
    {
      "cell_type": "code",
      "execution_count": 80,
      "metadata": {
        "colab": {
          "base_uri": "https://localhost:8080/"
        },
        "id": "hT3nq4x7cYrl",
        "outputId": "465c7610-2230-43ac-d9bd-50e540720bd9"
      },
      "outputs": [
        {
          "name": "stdout",
          "output_type": "stream",
          "text": [
            "K-Neighbours Classifier accuracy ==>  0.9783425753076646\n",
            "K-Neighbours Classifier precision ==>  0.5168568273831432\n",
            "K-Neighbours Classifier recall ==>  0.14503750740124294\n"
          ]
        }
      ],
      "source": [
        "KN_accuracy = sum(kn_accuracy_list) / len(kn_accuracy_list)\n",
        "KN_precision = sum(kn_precision_list) / len(kn_precision_list)\n",
        "KN_recall = sum(kn_recall_list) / len(kn_recall_list)\n",
        "\n",
        "print(\"K-Neighbours Classifier accuracy ==> \", KN_accuracy)\n",
        "print(\"K-Neighbours Classifier precision ==> \", KN_precision)\n",
        "print(\"K-Neighbours Classifier recall ==> \", KN_recall)"
      ]
    },
    {
      "cell_type": "code",
      "execution_count": 81,
      "metadata": {
        "id": "WC3e0fiXcbXN"
      },
      "outputs": [],
      "source": [
        "data = {'accuracy': [ SVM_accuracy, DT_accuracy, RF_accuracy, AB_accuracy, NN_accuracy, KN_accuracy],\n",
        "        'precision': [ SVM_precision, DT_precision, RF_precision, AB_precision, NN_precision, KN_precision],\n",
        "        'recall': [ SVM_recall, DT_recall, RF_recall, AB_recall, NN_recall, KN_recall]\n",
        "        }\n",
        "\n",
        "index = [ 'SVM', 'DT', 'RF', 'AB', 'NN', 'KN']\n",
        "\n",
        "df_results = pd.DataFrame(data=data, index=index)"
      ]
    },
    {
      "cell_type": "code",
      "execution_count": 82,
      "metadata": {
        "colab": {
          "base_uri": "https://localhost:8080/",
          "height": 430
        },
        "id": "skLQVgCVcgah",
        "outputId": "9d62b6d3-3235-4ffb-b6ea-3a63fb751619"
      },
      "outputs": [
        {
          "data": {
            "image/png": "[encoded data removed]",
            "text/plain": [
              "<Figure size 640x480 with 1 Axes>"
            ]
          },
          "metadata": {},
          "output_type": "display_data"
        }
      ],
      "source": [
        "# visualize the dataframe\n",
        "ax = df_results.plot.bar(rot=0)\n",
        "plt.show()"
      ]
    },
    {
      "cell_type": "code",
      "execution_count": null,
      "metadata": {
        "id": "cMAiZbiYcj8R"
      },
      "outputs": [],
      "source": []
    }
  ],
  "metadata": {
    "colab": {
      "provenance": []
    },
    "kernelspec": {
      "display_name": "ml",
      "language": "python",
      "name": "ml"
    }
  },
  "nbformat": 4,
  "nbformat_minor": 0
}
